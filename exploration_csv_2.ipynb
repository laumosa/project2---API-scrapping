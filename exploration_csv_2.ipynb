{
 "cells": [
  {
   "cell_type": "markdown",
   "id": "4d68926e",
   "metadata": {},
   "source": [
    "# PROJECT 2 - Covid (csv)"
   ]
  },
  {
   "cell_type": "markdown",
   "id": "36783901",
   "metadata": {},
   "source": [
    "## 1. Import libraries"
   ]
  },
  {
   "cell_type": "code",
   "execution_count": 1,
   "id": "86587f73",
   "metadata": {},
   "outputs": [],
   "source": [
    "import pandas as pd\n",
    "import seaborn as sns\n",
    "import matplotlib.pyplot as plt"
   ]
  },
  {
   "cell_type": "code",
   "execution_count": 2,
   "id": "d91e762d",
   "metadata": {},
   "outputs": [],
   "source": [
    "import warnings\n",
    "warnings.filterwarnings('ignore')"
   ]
  },
  {
   "cell_type": "markdown",
   "id": "089c4e6a",
   "metadata": {},
   "source": [
    "## 2. Read the database"
   ]
  },
  {
   "cell_type": "code",
   "execution_count": 3,
   "id": "14a4d084",
   "metadata": {},
   "outputs": [
    {
     "data": {
      "text/html": [
       "<div>\n",
       "<style scoped>\n",
       "    .dataframe tbody tr th:only-of-type {\n",
       "        vertical-align: middle;\n",
       "    }\n",
       "\n",
       "    .dataframe tbody tr th {\n",
       "        vertical-align: top;\n",
       "    }\n",
       "\n",
       "    .dataframe thead th {\n",
       "        text-align: right;\n",
       "    }\n",
       "</style>\n",
       "<table border=\"1\" class=\"dataframe\">\n",
       "  <thead>\n",
       "    <tr style=\"text-align: right;\">\n",
       "      <th></th>\n",
       "      <th>provincia_iso</th>\n",
       "      <th>fecha</th>\n",
       "      <th>num_casos</th>\n",
       "      <th>num_casos_prueba_pcr</th>\n",
       "      <th>num_casos_prueba_test_ac</th>\n",
       "      <th>num_casos_prueba_ag</th>\n",
       "      <th>num_casos_prueba_elisa</th>\n",
       "      <th>num_casos_prueba_desconocida</th>\n",
       "    </tr>\n",
       "  </thead>\n",
       "  <tbody>\n",
       "    <tr>\n",
       "      <th>0</th>\n",
       "      <td>A</td>\n",
       "      <td>2020-01-01</td>\n",
       "      <td>0</td>\n",
       "      <td>0</td>\n",
       "      <td>0</td>\n",
       "      <td>0</td>\n",
       "      <td>0</td>\n",
       "      <td>0</td>\n",
       "    </tr>\n",
       "    <tr>\n",
       "      <th>1</th>\n",
       "      <td>AB</td>\n",
       "      <td>2020-01-01</td>\n",
       "      <td>0</td>\n",
       "      <td>0</td>\n",
       "      <td>0</td>\n",
       "      <td>0</td>\n",
       "      <td>0</td>\n",
       "      <td>0</td>\n",
       "    </tr>\n",
       "    <tr>\n",
       "      <th>2</th>\n",
       "      <td>AL</td>\n",
       "      <td>2020-01-01</td>\n",
       "      <td>0</td>\n",
       "      <td>0</td>\n",
       "      <td>0</td>\n",
       "      <td>0</td>\n",
       "      <td>0</td>\n",
       "      <td>0</td>\n",
       "    </tr>\n",
       "    <tr>\n",
       "      <th>3</th>\n",
       "      <td>AV</td>\n",
       "      <td>2020-01-01</td>\n",
       "      <td>0</td>\n",
       "      <td>0</td>\n",
       "      <td>0</td>\n",
       "      <td>0</td>\n",
       "      <td>0</td>\n",
       "      <td>0</td>\n",
       "    </tr>\n",
       "    <tr>\n",
       "      <th>4</th>\n",
       "      <td>B</td>\n",
       "      <td>2020-01-01</td>\n",
       "      <td>0</td>\n",
       "      <td>0</td>\n",
       "      <td>0</td>\n",
       "      <td>0</td>\n",
       "      <td>0</td>\n",
       "      <td>0</td>\n",
       "    </tr>\n",
       "  </tbody>\n",
       "</table>\n",
       "</div>"
      ],
      "text/plain": [
       "  provincia_iso       fecha  num_casos  num_casos_prueba_pcr  \\\n",
       "0             A  2020-01-01          0                     0   \n",
       "1            AB  2020-01-01          0                     0   \n",
       "2            AL  2020-01-01          0                     0   \n",
       "3            AV  2020-01-01          0                     0   \n",
       "4             B  2020-01-01          0                     0   \n",
       "\n",
       "   num_casos_prueba_test_ac  num_casos_prueba_ag  num_casos_prueba_elisa  \\\n",
       "0                         0                    0                       0   \n",
       "1                         0                    0                       0   \n",
       "2                         0                    0                       0   \n",
       "3                         0                    0                       0   \n",
       "4                         0                    0                       0   \n",
       "\n",
       "   num_casos_prueba_desconocida  \n",
       "0                             0  \n",
       "1                             0  \n",
       "2                             0  \n",
       "3                             0  \n",
       "4                             0  "
      ]
     },
     "execution_count": 3,
     "metadata": {},
     "output_type": "execute_result"
    }
   ],
   "source": [
    "df = pd.read_csv(\"data/casos_tecnica_provincia.csv\")\n",
    "df.head()"
   ]
  },
  {
   "cell_type": "markdown",
   "id": "f121c42e",
   "metadata": {},
   "source": [
    "## 3. Exploratory analysis"
   ]
  },
  {
   "cell_type": "code",
   "execution_count": 4,
   "id": "76b07ac2",
   "metadata": {},
   "outputs": [
    {
     "data": {
      "text/html": [
       "<div>\n",
       "<style scoped>\n",
       "    .dataframe tbody tr th:only-of-type {\n",
       "        vertical-align: middle;\n",
       "    }\n",
       "\n",
       "    .dataframe tbody tr th {\n",
       "        vertical-align: top;\n",
       "    }\n",
       "\n",
       "    .dataframe thead th {\n",
       "        text-align: right;\n",
       "    }\n",
       "</style>\n",
       "<table border=\"1\" class=\"dataframe\">\n",
       "  <thead>\n",
       "    <tr style=\"text-align: right;\">\n",
       "      <th></th>\n",
       "      <th>provincia_iso</th>\n",
       "      <th>fecha</th>\n",
       "      <th>num_casos</th>\n",
       "      <th>num_casos_prueba_pcr</th>\n",
       "      <th>num_casos_prueba_test_ac</th>\n",
       "      <th>num_casos_prueba_ag</th>\n",
       "      <th>num_casos_prueba_elisa</th>\n",
       "      <th>num_casos_prueba_desconocida</th>\n",
       "    </tr>\n",
       "  </thead>\n",
       "  <tbody>\n",
       "    <tr>\n",
       "      <th>23350</th>\n",
       "      <td>MU</td>\n",
       "      <td>2021-03-16</td>\n",
       "      <td>52</td>\n",
       "      <td>31</td>\n",
       "      <td>0</td>\n",
       "      <td>21</td>\n",
       "      <td>0</td>\n",
       "      <td>0</td>\n",
       "    </tr>\n",
       "  </tbody>\n",
       "</table>\n",
       "</div>"
      ],
      "text/plain": [
       "      provincia_iso       fecha  num_casos  num_casos_prueba_pcr  \\\n",
       "23350            MU  2021-03-16         52                    31   \n",
       "\n",
       "       num_casos_prueba_test_ac  num_casos_prueba_ag  num_casos_prueba_elisa  \\\n",
       "23350                         0                   21                       0   \n",
       "\n",
       "       num_casos_prueba_desconocida  \n",
       "23350                             0  "
      ]
     },
     "execution_count": 4,
     "metadata": {},
     "output_type": "execute_result"
    }
   ],
   "source": [
    "df.sample()"
   ]
  },
  {
   "cell_type": "code",
   "execution_count": 5,
   "id": "674025d9",
   "metadata": {},
   "outputs": [
    {
     "data": {
      "text/plain": [
       "(43778, 8)"
      ]
     },
     "execution_count": 5,
     "metadata": {},
     "output_type": "execute_result"
    }
   ],
   "source": [
    "df.shape"
   ]
  },
  {
   "cell_type": "code",
   "execution_count": 6,
   "id": "361a1b5a",
   "metadata": {},
   "outputs": [
    {
     "data": {
      "text/plain": [
       "Index(['provincia_iso', 'fecha', 'num_casos', 'num_casos_prueba_pcr',\n",
       "       'num_casos_prueba_test_ac', 'num_casos_prueba_ag',\n",
       "       'num_casos_prueba_elisa', 'num_casos_prueba_desconocida'],\n",
       "      dtype='object')"
      ]
     },
     "execution_count": 6,
     "metadata": {},
     "output_type": "execute_result"
    }
   ],
   "source": [
    "df.columns"
   ]
  },
  {
   "cell_type": "markdown",
   "id": "4d9d4791",
   "metadata": {},
   "source": [
    "## 4. Filtering the Database:"
   ]
  },
  {
   "cell_type": "code",
   "execution_count": 7,
   "id": "73667ecb",
   "metadata": {},
   "outputs": [
    {
     "data": {
      "text/html": [
       "<div>\n",
       "<style scoped>\n",
       "    .dataframe tbody tr th:only-of-type {\n",
       "        vertical-align: middle;\n",
       "    }\n",
       "\n",
       "    .dataframe tbody tr th {\n",
       "        vertical-align: top;\n",
       "    }\n",
       "\n",
       "    .dataframe thead th {\n",
       "        text-align: right;\n",
       "    }\n",
       "</style>\n",
       "<table border=\"1\" class=\"dataframe\">\n",
       "  <thead>\n",
       "    <tr style=\"text-align: right;\">\n",
       "      <th></th>\n",
       "      <th>provincia_iso</th>\n",
       "      <th>fecha</th>\n",
       "      <th>num_casos</th>\n",
       "      <th>num_casos_prueba_pcr</th>\n",
       "      <th>num_casos_prueba_test_ac</th>\n",
       "      <th>num_casos_prueba_ag</th>\n",
       "      <th>num_casos_prueba_elisa</th>\n",
       "      <th>num_casos_prueba_desconocida</th>\n",
       "    </tr>\n",
       "  </thead>\n",
       "  <tbody>\n",
       "    <tr>\n",
       "      <th>27</th>\n",
       "      <td>M</td>\n",
       "      <td>2020-01-01</td>\n",
       "      <td>1</td>\n",
       "      <td>1</td>\n",
       "      <td>0</td>\n",
       "      <td>0</td>\n",
       "      <td>0</td>\n",
       "      <td>0</td>\n",
       "    </tr>\n",
       "    <tr>\n",
       "      <th>80</th>\n",
       "      <td>M</td>\n",
       "      <td>2020-01-02</td>\n",
       "      <td>0</td>\n",
       "      <td>0</td>\n",
       "      <td>0</td>\n",
       "      <td>0</td>\n",
       "      <td>0</td>\n",
       "      <td>0</td>\n",
       "    </tr>\n",
       "    <tr>\n",
       "      <th>133</th>\n",
       "      <td>M</td>\n",
       "      <td>2020-01-03</td>\n",
       "      <td>0</td>\n",
       "      <td>0</td>\n",
       "      <td>0</td>\n",
       "      <td>0</td>\n",
       "      <td>0</td>\n",
       "      <td>0</td>\n",
       "    </tr>\n",
       "    <tr>\n",
       "      <th>186</th>\n",
       "      <td>M</td>\n",
       "      <td>2020-01-04</td>\n",
       "      <td>0</td>\n",
       "      <td>0</td>\n",
       "      <td>0</td>\n",
       "      <td>0</td>\n",
       "      <td>0</td>\n",
       "      <td>0</td>\n",
       "    </tr>\n",
       "    <tr>\n",
       "      <th>239</th>\n",
       "      <td>M</td>\n",
       "      <td>2020-01-05</td>\n",
       "      <td>0</td>\n",
       "      <td>0</td>\n",
       "      <td>0</td>\n",
       "      <td>0</td>\n",
       "      <td>0</td>\n",
       "      <td>0</td>\n",
       "    </tr>\n",
       "  </tbody>\n",
       "</table>\n",
       "</div>"
      ],
      "text/plain": [
       "    provincia_iso       fecha  num_casos  num_casos_prueba_pcr  \\\n",
       "27              M  2020-01-01          1                     1   \n",
       "80              M  2020-01-02          0                     0   \n",
       "133             M  2020-01-03          0                     0   \n",
       "186             M  2020-01-04          0                     0   \n",
       "239             M  2020-01-05          0                     0   \n",
       "\n",
       "     num_casos_prueba_test_ac  num_casos_prueba_ag  num_casos_prueba_elisa  \\\n",
       "27                          0                    0                       0   \n",
       "80                          0                    0                       0   \n",
       "133                         0                    0                       0   \n",
       "186                         0                    0                       0   \n",
       "239                         0                    0                       0   \n",
       "\n",
       "     num_casos_prueba_desconocida  \n",
       "27                              0  \n",
       "80                              0  \n",
       "133                             0  \n",
       "186                             0  \n",
       "239                             0  "
      ]
     },
     "execution_count": 7,
     "metadata": {},
     "output_type": "execute_result"
    }
   ],
   "source": [
    "df_filtered = df[(df['provincia_iso'] == 'M') & (df['fecha'] >= '2020-01-01') & (df['fecha'] <= '2020-12-31')]\n",
    "df_filtered.head()"
   ]
  },
  {
   "cell_type": "markdown",
   "id": "52dd06f4",
   "metadata": {},
   "source": [
    "## 5. General cleaning:"
   ]
  },
  {
   "cell_type": "code",
   "execution_count": 8,
   "id": "981f8f0d",
   "metadata": {},
   "outputs": [],
   "source": [
    "df_filtered.drop(columns=[\"num_casos_prueba_pcr\", \"num_casos_prueba_test_ac\", \"num_casos_prueba_ag\", \"num_casos_prueba_elisa\", \"num_casos_prueba_desconocida\"], axis = 1, inplace = True)"
   ]
  },
  {
   "cell_type": "code",
   "execution_count": 9,
   "id": "46142264",
   "metadata": {},
   "outputs": [
    {
     "data": {
      "text/plain": [
       "provincia_iso    0\n",
       "fecha            0\n",
       "num_casos        0\n",
       "dtype: int64"
      ]
     },
     "execution_count": 9,
     "metadata": {},
     "output_type": "execute_result"
    }
   ],
   "source": [
    "pd.isna(df_filtered).sum()"
   ]
  },
  {
   "cell_type": "code",
   "execution_count": 10,
   "id": "68205649",
   "metadata": {},
   "outputs": [
    {
     "data": {
      "text/plain": [
       "0"
      ]
     },
     "execution_count": 10,
     "metadata": {},
     "output_type": "execute_result"
    }
   ],
   "source": [
    "df_filtered.duplicated().sum()"
   ]
  },
  {
   "cell_type": "code",
   "execution_count": 11,
   "id": "bca2f1bb",
   "metadata": {},
   "outputs": [],
   "source": [
    "# Convert \"fecha\" column to datetime format\n",
    "df_filtered['fecha'] = pd.to_datetime(df_filtered['fecha'])\n",
    "\n",
    "# Extract the month into a new column\n",
    "df_filtered['mes_numero'] = df_filtered['fecha'].dt.month\n",
    "\n",
    "# Extract year into a new column\n",
    "df_filtered['año'] = df_filtered['fecha'].dt.year\n",
    "\n",
    "# Replace each value in the 'Month' column with a string representing the corresponding month\n",
    "months_dict = {1: 'January', 2: 'February', 3: 'March (Covid)', 4: 'April', 5: 'May', 6: 'June', 7: 'July', 8: 'August', 9: 'September', 10: 'October', 11: 'November', 12: 'December'}\n",
    "df_filtered['mes_nombre'] = df_filtered['mes_numero'].replace(months_dict)"
   ]
  },
  {
   "cell_type": "markdown",
   "id": "d0a5ac28",
   "metadata": {},
   "source": [
    "## 6. Plot:"
   ]
  },
  {
   "cell_type": "code",
   "execution_count": 12,
   "id": "c664ac02",
   "metadata": {},
   "outputs": [
    {
     "data": {
      "image/png": "[encoded data removed]",
      "text/plain": [
       "<Figure size 640x480 with 1 Axes>"
      ]
     },
     "metadata": {},
     "output_type": "display_data"
    }
   ],
   "source": [
    "# Set plot style\n",
    "sns.set_style('whitegrid')\n",
    "\n",
    "# Create the plot with hue for each year\n",
    "ax = sns.barplot(data=df_filtered, x='mes_nombre', y='num_casos', linewidth=2.5, ci=None, color=sns.color_palette('coolwarm')[1])\n",
    "\n",
    "# Add plot title and axis labels\n",
    "ax.set_title('Average Covid Cases in Madrid (2020)', fontsize=16)\n",
    "ax.set_xlabel('Month', fontsize=14)\n",
    "ax.set_ylabel('Average Covid Cases', fontsize=14)\n",
    "\n",
    "# Set tick label font size and rotation\n",
    "ax.tick_params(labelsize=10, rotation=45)\n",
    "\n",
    "# Set the color for the March label\n",
    "ax.get_xticklabels()[2].set_color('red')\n",
    "\n",
    "# Display the plot\n",
    "plt.show()"
   ]
  }
 ],
 "metadata": {
  "kernelspec": {
   "display_name": "Python 3 (ipykernel)",
   "language": "python",
   "name": "python3"
  },
  "language_info": {
   "codemirror_mode": {
    "name": "ipython",
    "version": 3
   },
   "file_extension": ".py",
   "mimetype": "text/x-python",
   "name": "python",
   "nbconvert_exporter": "python",
   "pygments_lexer": "ipython3",
   "version": "3.10.9"
  }
 },
 "nbformat": 4,
 "nbformat_minor": 5
}
